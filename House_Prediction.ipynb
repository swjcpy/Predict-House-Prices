{
 "cells": [
  {
   "cell_type": "code",
   "execution_count": 1,
   "metadata": {},
   "outputs": [
    {
     "name": "stdout",
     "output_type": "stream",
     "text": [
      "   Id  MSSubClass MSZoning  LotFrontage  LotArea Street Alley LotShape  \\\n",
      "0   1          60       RL         65.0     8450   Pave   NaN      Reg   \n",
      "1   2          20       RL         80.0     9600   Pave   NaN      Reg   \n",
      "2   3          60       RL         68.0    11250   Pave   NaN      IR1   \n",
      "3   4          70       RL         60.0     9550   Pave   NaN      IR1   \n",
      "4   5          60       RL         84.0    14260   Pave   NaN      IR1   \n",
      "\n",
      "  LandContour Utilities    ...     PoolArea PoolQC Fence MiscFeature MiscVal  \\\n",
      "0         Lvl    AllPub    ...            0    NaN   NaN         NaN       0   \n",
      "1         Lvl    AllPub    ...            0    NaN   NaN         NaN       0   \n",
      "2         Lvl    AllPub    ...            0    NaN   NaN         NaN       0   \n",
      "3         Lvl    AllPub    ...            0    NaN   NaN         NaN       0   \n",
      "4         Lvl    AllPub    ...            0    NaN   NaN         NaN       0   \n",
      "\n",
      "  MoSold YrSold  SaleType  SaleCondition  SalePrice  \n",
      "0      2   2008        WD         Normal     208500  \n",
      "1      5   2007        WD         Normal     181500  \n",
      "2      9   2008        WD         Normal     223500  \n",
      "3      2   2006        WD        Abnorml     140000  \n",
      "4     12   2008        WD         Normal     250000  \n",
      "\n",
      "[5 rows x 81 columns]\n",
      "(1459, 80)\n",
      "(1460, 81)\n"
     ]
    }
   ],
   "source": [
    "import pandas as pd\n",
    "import numpy as np\n",
    "%matplotlib inline\n",
    "import matplotlib.pyplot as plt\n",
    "import seaborn as sns\n",
    "\n",
    "import warnings\n",
    "def ignore_warn(*args, **kwargs):\n",
    "    pass\n",
    "warnings.warn = ignore_warn #ignore annoying warning (from sklearn and seaborn)\n",
    "\n",
    "train = pd.read_csv('train.csv')\n",
    "test = pd.read_csv('test.csv')\n",
    "\n",
    "print(train.head())\n",
    "print(test.shape)\n",
    "print(train.shape)"
   ]
  },
  {
   "cell_type": "code",
   "execution_count": 2,
   "metadata": {},
   "outputs": [
    {
     "data": {
      "text/html": [
       "<div>\n",
       "<style scoped>\n",
       "    .dataframe tbody tr th:only-of-type {\n",
       "        vertical-align: middle;\n",
       "    }\n",
       "\n",
       "    .dataframe tbody tr th {\n",
       "        vertical-align: top;\n",
       "    }\n",
       "\n",
       "    .dataframe thead th {\n",
       "        text-align: right;\n",
       "    }\n",
       "</style>\n",
       "<table border=\"1\" class=\"dataframe\">\n",
       "  <thead>\n",
       "    <tr style=\"text-align: right;\">\n",
       "      <th></th>\n",
       "      <th>Id</th>\n",
       "      <th>MSSubClass</th>\n",
       "      <th>LotFrontage</th>\n",
       "      <th>LotArea</th>\n",
       "      <th>OverallQual</th>\n",
       "      <th>OverallCond</th>\n",
       "      <th>YearBuilt</th>\n",
       "      <th>YearRemodAdd</th>\n",
       "      <th>MasVnrArea</th>\n",
       "      <th>BsmtFinSF1</th>\n",
       "      <th>...</th>\n",
       "      <th>WoodDeckSF</th>\n",
       "      <th>OpenPorchSF</th>\n",
       "      <th>EnclosedPorch</th>\n",
       "      <th>3SsnPorch</th>\n",
       "      <th>ScreenPorch</th>\n",
       "      <th>PoolArea</th>\n",
       "      <th>MiscVal</th>\n",
       "      <th>MoSold</th>\n",
       "      <th>YrSold</th>\n",
       "      <th>SalePrice</th>\n",
       "    </tr>\n",
       "  </thead>\n",
       "  <tbody>\n",
       "    <tr>\n",
       "      <th>count</th>\n",
       "      <td>1460.000000</td>\n",
       "      <td>1460.000000</td>\n",
       "      <td>1201.000000</td>\n",
       "      <td>1460.000000</td>\n",
       "      <td>1460.000000</td>\n",
       "      <td>1460.000000</td>\n",
       "      <td>1460.000000</td>\n",
       "      <td>1460.000000</td>\n",
       "      <td>1452.000000</td>\n",
       "      <td>1460.000000</td>\n",
       "      <td>...</td>\n",
       "      <td>1460.000000</td>\n",
       "      <td>1460.000000</td>\n",
       "      <td>1460.000000</td>\n",
       "      <td>1460.000000</td>\n",
       "      <td>1460.000000</td>\n",
       "      <td>1460.000000</td>\n",
       "      <td>1460.000000</td>\n",
       "      <td>1460.000000</td>\n",
       "      <td>1460.000000</td>\n",
       "      <td>1460.000000</td>\n",
       "    </tr>\n",
       "    <tr>\n",
       "      <th>mean</th>\n",
       "      <td>730.500000</td>\n",
       "      <td>56.897260</td>\n",
       "      <td>70.049958</td>\n",
       "      <td>10516.828082</td>\n",
       "      <td>6.099315</td>\n",
       "      <td>5.575342</td>\n",
       "      <td>1971.267808</td>\n",
       "      <td>1984.865753</td>\n",
       "      <td>103.685262</td>\n",
       "      <td>443.639726</td>\n",
       "      <td>...</td>\n",
       "      <td>94.244521</td>\n",
       "      <td>46.660274</td>\n",
       "      <td>21.954110</td>\n",
       "      <td>3.409589</td>\n",
       "      <td>15.060959</td>\n",
       "      <td>2.758904</td>\n",
       "      <td>43.489041</td>\n",
       "      <td>6.321918</td>\n",
       "      <td>2007.815753</td>\n",
       "      <td>180921.195890</td>\n",
       "    </tr>\n",
       "    <tr>\n",
       "      <th>std</th>\n",
       "      <td>421.610009</td>\n",
       "      <td>42.300571</td>\n",
       "      <td>24.284752</td>\n",
       "      <td>9981.264932</td>\n",
       "      <td>1.382997</td>\n",
       "      <td>1.112799</td>\n",
       "      <td>30.202904</td>\n",
       "      <td>20.645407</td>\n",
       "      <td>181.066207</td>\n",
       "      <td>456.098091</td>\n",
       "      <td>...</td>\n",
       "      <td>125.338794</td>\n",
       "      <td>66.256028</td>\n",
       "      <td>61.119149</td>\n",
       "      <td>29.317331</td>\n",
       "      <td>55.757415</td>\n",
       "      <td>40.177307</td>\n",
       "      <td>496.123024</td>\n",
       "      <td>2.703626</td>\n",
       "      <td>1.328095</td>\n",
       "      <td>79442.502883</td>\n",
       "    </tr>\n",
       "    <tr>\n",
       "      <th>min</th>\n",
       "      <td>1.000000</td>\n",
       "      <td>20.000000</td>\n",
       "      <td>21.000000</td>\n",
       "      <td>1300.000000</td>\n",
       "      <td>1.000000</td>\n",
       "      <td>1.000000</td>\n",
       "      <td>1872.000000</td>\n",
       "      <td>1950.000000</td>\n",
       "      <td>0.000000</td>\n",
       "      <td>0.000000</td>\n",
       "      <td>...</td>\n",
       "      <td>0.000000</td>\n",
       "      <td>0.000000</td>\n",
       "      <td>0.000000</td>\n",
       "      <td>0.000000</td>\n",
       "      <td>0.000000</td>\n",
       "      <td>0.000000</td>\n",
       "      <td>0.000000</td>\n",
       "      <td>1.000000</td>\n",
       "      <td>2006.000000</td>\n",
       "      <td>34900.000000</td>\n",
       "    </tr>\n",
       "    <tr>\n",
       "      <th>25%</th>\n",
       "      <td>365.750000</td>\n",
       "      <td>20.000000</td>\n",
       "      <td>59.000000</td>\n",
       "      <td>7553.500000</td>\n",
       "      <td>5.000000</td>\n",
       "      <td>5.000000</td>\n",
       "      <td>1954.000000</td>\n",
       "      <td>1967.000000</td>\n",
       "      <td>0.000000</td>\n",
       "      <td>0.000000</td>\n",
       "      <td>...</td>\n",
       "      <td>0.000000</td>\n",
       "      <td>0.000000</td>\n",
       "      <td>0.000000</td>\n",
       "      <td>0.000000</td>\n",
       "      <td>0.000000</td>\n",
       "      <td>0.000000</td>\n",
       "      <td>0.000000</td>\n",
       "      <td>5.000000</td>\n",
       "      <td>2007.000000</td>\n",
       "      <td>129975.000000</td>\n",
       "    </tr>\n",
       "    <tr>\n",
       "      <th>50%</th>\n",
       "      <td>730.500000</td>\n",
       "      <td>50.000000</td>\n",
       "      <td>69.000000</td>\n",
       "      <td>9478.500000</td>\n",
       "      <td>6.000000</td>\n",
       "      <td>5.000000</td>\n",
       "      <td>1973.000000</td>\n",
       "      <td>1994.000000</td>\n",
       "      <td>0.000000</td>\n",
       "      <td>383.500000</td>\n",
       "      <td>...</td>\n",
       "      <td>0.000000</td>\n",
       "      <td>25.000000</td>\n",
       "      <td>0.000000</td>\n",
       "      <td>0.000000</td>\n",
       "      <td>0.000000</td>\n",
       "      <td>0.000000</td>\n",
       "      <td>0.000000</td>\n",
       "      <td>6.000000</td>\n",
       "      <td>2008.000000</td>\n",
       "      <td>163000.000000</td>\n",
       "    </tr>\n",
       "    <tr>\n",
       "      <th>75%</th>\n",
       "      <td>1095.250000</td>\n",
       "      <td>70.000000</td>\n",
       "      <td>80.000000</td>\n",
       "      <td>11601.500000</td>\n",
       "      <td>7.000000</td>\n",
       "      <td>6.000000</td>\n",
       "      <td>2000.000000</td>\n",
       "      <td>2004.000000</td>\n",
       "      <td>166.000000</td>\n",
       "      <td>712.250000</td>\n",
       "      <td>...</td>\n",
       "      <td>168.000000</td>\n",
       "      <td>68.000000</td>\n",
       "      <td>0.000000</td>\n",
       "      <td>0.000000</td>\n",
       "      <td>0.000000</td>\n",
       "      <td>0.000000</td>\n",
       "      <td>0.000000</td>\n",
       "      <td>8.000000</td>\n",
       "      <td>2009.000000</td>\n",
       "      <td>214000.000000</td>\n",
       "    </tr>\n",
       "    <tr>\n",
       "      <th>max</th>\n",
       "      <td>1460.000000</td>\n",
       "      <td>190.000000</td>\n",
       "      <td>313.000000</td>\n",
       "      <td>215245.000000</td>\n",
       "      <td>10.000000</td>\n",
       "      <td>9.000000</td>\n",
       "      <td>2010.000000</td>\n",
       "      <td>2010.000000</td>\n",
       "      <td>1600.000000</td>\n",
       "      <td>5644.000000</td>\n",
       "      <td>...</td>\n",
       "      <td>857.000000</td>\n",
       "      <td>547.000000</td>\n",
       "      <td>552.000000</td>\n",
       "      <td>508.000000</td>\n",
       "      <td>480.000000</td>\n",
       "      <td>738.000000</td>\n",
       "      <td>15500.000000</td>\n",
       "      <td>12.000000</td>\n",
       "      <td>2010.000000</td>\n",
       "      <td>755000.000000</td>\n",
       "    </tr>\n",
       "  </tbody>\n",
       "</table>\n",
       "<p>8 rows × 38 columns</p>\n",
       "</div>"
      ],
      "text/plain": [
       "                Id   MSSubClass  LotFrontage        LotArea  OverallQual  \\\n",
       "count  1460.000000  1460.000000  1201.000000    1460.000000  1460.000000   \n",
       "mean    730.500000    56.897260    70.049958   10516.828082     6.099315   \n",
       "std     421.610009    42.300571    24.284752    9981.264932     1.382997   \n",
       "min       1.000000    20.000000    21.000000    1300.000000     1.000000   \n",
       "25%     365.750000    20.000000    59.000000    7553.500000     5.000000   \n",
       "50%     730.500000    50.000000    69.000000    9478.500000     6.000000   \n",
       "75%    1095.250000    70.000000    80.000000   11601.500000     7.000000   \n",
       "max    1460.000000   190.000000   313.000000  215245.000000    10.000000   \n",
       "\n",
       "       OverallCond    YearBuilt  YearRemodAdd   MasVnrArea   BsmtFinSF1  \\\n",
       "count  1460.000000  1460.000000   1460.000000  1452.000000  1460.000000   \n",
       "mean      5.575342  1971.267808   1984.865753   103.685262   443.639726   \n",
       "std       1.112799    30.202904     20.645407   181.066207   456.098091   \n",
       "min       1.000000  1872.000000   1950.000000     0.000000     0.000000   \n",
       "25%       5.000000  1954.000000   1967.000000     0.000000     0.000000   \n",
       "50%       5.000000  1973.000000   1994.000000     0.000000   383.500000   \n",
       "75%       6.000000  2000.000000   2004.000000   166.000000   712.250000   \n",
       "max       9.000000  2010.000000   2010.000000  1600.000000  5644.000000   \n",
       "\n",
       "           ...         WoodDeckSF  OpenPorchSF  EnclosedPorch    3SsnPorch  \\\n",
       "count      ...        1460.000000  1460.000000    1460.000000  1460.000000   \n",
       "mean       ...          94.244521    46.660274      21.954110     3.409589   \n",
       "std        ...         125.338794    66.256028      61.119149    29.317331   \n",
       "min        ...           0.000000     0.000000       0.000000     0.000000   \n",
       "25%        ...           0.000000     0.000000       0.000000     0.000000   \n",
       "50%        ...           0.000000    25.000000       0.000000     0.000000   \n",
       "75%        ...         168.000000    68.000000       0.000000     0.000000   \n",
       "max        ...         857.000000   547.000000     552.000000   508.000000   \n",
       "\n",
       "       ScreenPorch     PoolArea       MiscVal       MoSold       YrSold  \\\n",
       "count  1460.000000  1460.000000   1460.000000  1460.000000  1460.000000   \n",
       "mean     15.060959     2.758904     43.489041     6.321918  2007.815753   \n",
       "std      55.757415    40.177307    496.123024     2.703626     1.328095   \n",
       "min       0.000000     0.000000      0.000000     1.000000  2006.000000   \n",
       "25%       0.000000     0.000000      0.000000     5.000000  2007.000000   \n",
       "50%       0.000000     0.000000      0.000000     6.000000  2008.000000   \n",
       "75%       0.000000     0.000000      0.000000     8.000000  2009.000000   \n",
       "max     480.000000   738.000000  15500.000000    12.000000  2010.000000   \n",
       "\n",
       "           SalePrice  \n",
       "count    1460.000000  \n",
       "mean   180921.195890  \n",
       "std     79442.502883  \n",
       "min     34900.000000  \n",
       "25%    129975.000000  \n",
       "50%    163000.000000  \n",
       "75%    214000.000000  \n",
       "max    755000.000000  \n",
       "\n",
       "[8 rows x 38 columns]"
      ]
     },
     "execution_count": 2,
     "metadata": {},
     "output_type": "execute_result"
    }
   ],
   "source": [
    "train.describe()"
   ]
  },
  {
   "cell_type": "code",
   "execution_count": 3,
   "metadata": {},
   "outputs": [
    {
     "data": {
      "text/plain": [
       "Index([u'Id', u'MSSubClass', u'MSZoning', u'LotFrontage', u'LotArea',\n",
       "       u'Street', u'Alley', u'LotShape', u'LandContour', u'Utilities',\n",
       "       u'LotConfig', u'LandSlope', u'Neighborhood', u'Condition1',\n",
       "       u'Condition2', u'BldgType', u'HouseStyle', u'OverallQual',\n",
       "       u'OverallCond', u'YearBuilt', u'YearRemodAdd', u'RoofStyle',\n",
       "       u'RoofMatl', u'Exterior1st', u'Exterior2nd', u'MasVnrType',\n",
       "       u'MasVnrArea', u'ExterQual', u'ExterCond', u'Foundation', u'BsmtQual',\n",
       "       u'BsmtCond', u'BsmtExposure', u'BsmtFinType1', u'BsmtFinSF1',\n",
       "       u'BsmtFinType2', u'BsmtFinSF2', u'BsmtUnfSF', u'TotalBsmtSF',\n",
       "       u'Heating', u'HeatingQC', u'CentralAir', u'Electrical', u'1stFlrSF',\n",
       "       u'2ndFlrSF', u'LowQualFinSF', u'GrLivArea', u'BsmtFullBath',\n",
       "       u'BsmtHalfBath', u'FullBath', u'HalfBath', u'BedroomAbvGr',\n",
       "       u'KitchenAbvGr', u'KitchenQual', u'TotRmsAbvGrd', u'Functional',\n",
       "       u'Fireplaces', u'FireplaceQu', u'GarageType', u'GarageYrBlt',\n",
       "       u'GarageFinish', u'GarageCars', u'GarageArea', u'GarageQual',\n",
       "       u'GarageCond', u'PavedDrive', u'WoodDeckSF', u'OpenPorchSF',\n",
       "       u'EnclosedPorch', u'3SsnPorch', u'ScreenPorch', u'PoolArea', u'PoolQC',\n",
       "       u'Fence', u'MiscFeature', u'MiscVal', u'MoSold', u'YrSold', u'SaleType',\n",
       "       u'SaleCondition', u'SalePrice'],\n",
       "      dtype='object')"
      ]
     },
     "execution_count": 3,
     "metadata": {},
     "output_type": "execute_result"
    }
   ],
   "source": [
    "train.columns"
   ]
  },
  {
   "cell_type": "code",
   "execution_count": 4,
   "metadata": {},
   "outputs": [
    {
     "data": {
      "text/plain": [
       "HeatingQC        object\n",
       "CentralAir       object\n",
       "ExterCond        object\n",
       "KitchenQual      object\n",
       "Condition2       object\n",
       "BldgType         object\n",
       "HouseStyle       object\n",
       "RoofStyle        object\n",
       "RoofMatl         object\n",
       "Exterior1st      object\n",
       "Electrical       object\n",
       "SaleCondition    object\n",
       "Neighborhood     object\n",
       "Heating          object\n",
       "Exterior2nd      object\n",
       "MasVnrType       object\n",
       "BsmtFinType2     object\n",
       "ExterQual        object\n",
       "BsmtFinType1     object\n",
       "BsmtExposure     object\n",
       "BsmtCond         object\n",
       "BsmtQual         object\n",
       "Functional       object\n",
       "Condition1       object\n",
       "FireplaceQu      object\n",
       "PavedDrive       object\n",
       "SaleType         object\n",
       "MSZoning         object\n",
       "MiscFeature      object\n",
       "Fence            object\n",
       "                  ...  \n",
       "MSSubClass        int64\n",
       "SalePrice         int64\n",
       "BsmtFinSF1        int64\n",
       "BsmtFinSF2        int64\n",
       "YrSold            int64\n",
       "MoSold            int64\n",
       "MiscVal           int64\n",
       "PoolArea          int64\n",
       "ScreenPorch       int64\n",
       "3SsnPorch         int64\n",
       "EnclosedPorch     int64\n",
       "OpenPorchSF       int64\n",
       "WoodDeckSF        int64\n",
       "GarageArea        int64\n",
       "GarageCars        int64\n",
       "Fireplaces        int64\n",
       "TotRmsAbvGrd      int64\n",
       "KitchenAbvGr      int64\n",
       "BedroomAbvGr      int64\n",
       "HalfBath          int64\n",
       "FullBath          int64\n",
       "BsmtHalfBath      int64\n",
       "BsmtFullBath      int64\n",
       "GrLivArea         int64\n",
       "LowQualFinSF      int64\n",
       "2ndFlrSF          int64\n",
       "1stFlrSF          int64\n",
       "TotalBsmtSF       int64\n",
       "BsmtUnfSF         int64\n",
       "Id                int64\n",
       "Length: 81, dtype: object"
      ]
     },
     "execution_count": 4,
     "metadata": {},
     "output_type": "execute_result"
    }
   ],
   "source": [
    "train.dtypes.sort_values(ascending=False)"
   ]
  },
  {
   "cell_type": "code",
   "execution_count": 5,
   "metadata": {},
   "outputs": [
    {
     "data": {
      "text/plain": [
       "SalePrice        1.000000\n",
       "OverallQual      0.790982\n",
       "GrLivArea        0.708624\n",
       "GarageCars       0.640409\n",
       "GarageArea       0.623431\n",
       "TotalBsmtSF      0.613581\n",
       "1stFlrSF         0.605852\n",
       "FullBath         0.560664\n",
       "TotRmsAbvGrd     0.533723\n",
       "YearBuilt        0.522897\n",
       "YearRemodAdd     0.507101\n",
       "GarageYrBlt      0.486362\n",
       "MasVnrArea       0.477493\n",
       "Fireplaces       0.466929\n",
       "BsmtFinSF1       0.386420\n",
       "LotFrontage      0.351799\n",
       "WoodDeckSF       0.324413\n",
       "2ndFlrSF         0.319334\n",
       "OpenPorchSF      0.315856\n",
       "HalfBath         0.284108\n",
       "LotArea          0.263843\n",
       "BsmtFullBath     0.227122\n",
       "BsmtUnfSF        0.214479\n",
       "BedroomAbvGr     0.168213\n",
       "ScreenPorch      0.111447\n",
       "PoolArea         0.092404\n",
       "MoSold           0.046432\n",
       "3SsnPorch        0.044584\n",
       "BsmtFinSF2      -0.011378\n",
       "BsmtHalfBath    -0.016844\n",
       "MiscVal         -0.021190\n",
       "Id              -0.021917\n",
       "LowQualFinSF    -0.025606\n",
       "YrSold          -0.028923\n",
       "OverallCond     -0.077856\n",
       "MSSubClass      -0.084284\n",
       "EnclosedPorch   -0.128578\n",
       "KitchenAbvGr    -0.135907\n",
       "Name: SalePrice, dtype: float64"
      ]
     },
     "execution_count": 5,
     "metadata": {},
     "output_type": "execute_result"
    }
   ],
   "source": [
    "corr = train.corr()\n",
    "corr.sort_values(by=['SalePrice'], ascending=False, inplace=True)\n",
    "corr['SalePrice']"
   ]
  },
  {
   "cell_type": "code",
   "execution_count": 6,
   "metadata": {},
   "outputs": [
    {
     "data": {
      "text/plain": [
       "Id                  0\n",
       "MSSubClass          0\n",
       "MSZoning            0\n",
       "LotFrontage       259\n",
       "LotArea             0\n",
       "Street              0\n",
       "Alley            1369\n",
       "LotShape            0\n",
       "LandContour         0\n",
       "Utilities           0\n",
       "LotConfig           0\n",
       "LandSlope           0\n",
       "Neighborhood        0\n",
       "Condition1          0\n",
       "Condition2          0\n",
       "BldgType            0\n",
       "HouseStyle          0\n",
       "OverallQual         0\n",
       "OverallCond         0\n",
       "YearBuilt           0\n",
       "YearRemodAdd        0\n",
       "RoofStyle           0\n",
       "RoofMatl            0\n",
       "Exterior1st         0\n",
       "Exterior2nd         0\n",
       "MasVnrType          8\n",
       "MasVnrArea          8\n",
       "ExterQual           0\n",
       "ExterCond           0\n",
       "Foundation          0\n",
       "                 ... \n",
       "BedroomAbvGr        0\n",
       "KitchenAbvGr        0\n",
       "KitchenQual         0\n",
       "TotRmsAbvGrd        0\n",
       "Functional          0\n",
       "Fireplaces          0\n",
       "FireplaceQu       690\n",
       "GarageType         81\n",
       "GarageYrBlt        81\n",
       "GarageFinish       81\n",
       "GarageCars          0\n",
       "GarageArea          0\n",
       "GarageQual         81\n",
       "GarageCond         81\n",
       "PavedDrive          0\n",
       "WoodDeckSF          0\n",
       "OpenPorchSF         0\n",
       "EnclosedPorch       0\n",
       "3SsnPorch           0\n",
       "ScreenPorch         0\n",
       "PoolArea            0\n",
       "PoolQC           1453\n",
       "Fence            1179\n",
       "MiscFeature      1406\n",
       "MiscVal             0\n",
       "MoSold              0\n",
       "YrSold              0\n",
       "SaleType            0\n",
       "SaleCondition       0\n",
       "SalePrice           0\n",
       "Length: 81, dtype: int64"
      ]
     },
     "execution_count": 6,
     "metadata": {},
     "output_type": "execute_result"
    }
   ],
   "source": [
    "train.isnull().sum()"
   ]
  },
  {
   "cell_type": "code",
   "execution_count": 7,
   "metadata": {},
   "outputs": [
    {
     "data": {
      "text/plain": [
       "(1460, 81)"
      ]
     },
     "execution_count": 7,
     "metadata": {},
     "output_type": "execute_result"
    }
   ],
   "source": [
    "train.shape"
   ]
  },
  {
   "cell_type": "markdown",
   "metadata": {},
   "source": [
    "Drop these columns because they have too many missing values"
   ]
  },
  {
   "cell_type": "code",
   "execution_count": 8,
   "metadata": {},
   "outputs": [
    {
     "data": {
      "text/plain": [
       "Id                 0\n",
       "SaleCondition      0\n",
       "Heating            0\n",
       "HeatingQC          0\n",
       "CentralAir         0\n",
       "1stFlrSF           0\n",
       "2ndFlrSF           0\n",
       "LowQualFinSF       0\n",
       "GrLivArea          0\n",
       "BsmtFullBath       0\n",
       "BsmtHalfBath       0\n",
       "FullBath           0\n",
       "HalfBath           0\n",
       "BedroomAbvGr       0\n",
       "KitchenAbvGr       0\n",
       "KitchenQual        0\n",
       "TotRmsAbvGrd       0\n",
       "Functional         0\n",
       "SaleType           0\n",
       "YrSold             0\n",
       "MoSold             0\n",
       "MiscVal            0\n",
       "PoolArea           0\n",
       "ScreenPorch        0\n",
       "BsmtUnfSF          0\n",
       "3SsnPorch          0\n",
       "OpenPorchSF        0\n",
       "WoodDeckSF         0\n",
       "PavedDrive         0\n",
       "GarageArea         0\n",
       "                ... \n",
       "Condition1         0\n",
       "Condition2         0\n",
       "HouseStyle         0\n",
       "OverallQual        0\n",
       "OverallCond        0\n",
       "BldgType           0\n",
       "YearRemodAdd       0\n",
       "Foundation         0\n",
       "ExterCond          0\n",
       "ExterQual          0\n",
       "YearBuilt          0\n",
       "Exterior2nd        0\n",
       "Exterior1st        0\n",
       "SalePrice          0\n",
       "RoofMatl           0\n",
       "RoofStyle          0\n",
       "Electrical         1\n",
       "MasVnrArea         8\n",
       "MasVnrType         8\n",
       "BsmtQual          37\n",
       "BsmtCond          37\n",
       "BsmtFinType1      37\n",
       "BsmtFinType2      38\n",
       "BsmtExposure      38\n",
       "GarageYrBlt       81\n",
       "GarageQual        81\n",
       "GarageCond        81\n",
       "GarageType        81\n",
       "GarageFinish      81\n",
       "LotFrontage      259\n",
       "Length: 76, dtype: int64"
      ]
     },
     "execution_count": 8,
     "metadata": {},
     "output_type": "execute_result"
    }
   ],
   "source": [
    "train = train.drop(labels=['MiscFeature','PoolQC', 'Fence','Alley', 'FireplaceQu'], axis=1)\n",
    "test = test.drop(labels=['MiscFeature','PoolQC', 'Fence','Alley', 'FireplaceQu'], axis=1)\n",
    "train.isnull().sum().sort_values()"
   ]
  },
  {
   "cell_type": "code",
   "execution_count": 9,
   "metadata": {},
   "outputs": [
    {
     "name": "stdout",
     "output_type": "stream",
     "text": [
      "Id                0\n",
      "MSSubClass        0\n",
      "MSZoning          0\n",
      "LotFrontage       0\n",
      "LotArea           0\n",
      "Street            0\n",
      "LotShape          0\n",
      "LandContour       0\n",
      "Utilities         0\n",
      "LotConfig         0\n",
      "LandSlope         0\n",
      "Neighborhood      0\n",
      "Condition1        0\n",
      "Condition2        0\n",
      "BldgType          0\n",
      "HouseStyle        0\n",
      "OverallQual       0\n",
      "OverallCond       0\n",
      "YearBuilt         0\n",
      "YearRemodAdd      0\n",
      "RoofStyle         0\n",
      "RoofMatl          0\n",
      "Exterior1st       0\n",
      "Exterior2nd       0\n",
      "MasVnrType        8\n",
      "MasVnrArea        0\n",
      "ExterQual         0\n",
      "ExterCond         0\n",
      "Foundation        0\n",
      "BsmtQual         37\n",
      "                 ..\n",
      "BsmtFullBath      0\n",
      "BsmtHalfBath      0\n",
      "FullBath          0\n",
      "HalfBath          0\n",
      "BedroomAbvGr      0\n",
      "KitchenAbvGr      0\n",
      "KitchenQual       0\n",
      "TotRmsAbvGrd      0\n",
      "Functional        0\n",
      "Fireplaces        0\n",
      "GarageType       81\n",
      "GarageYrBlt       0\n",
      "GarageFinish     81\n",
      "GarageCars        0\n",
      "GarageArea        0\n",
      "GarageQual       81\n",
      "GarageCond       81\n",
      "PavedDrive        0\n",
      "WoodDeckSF        0\n",
      "OpenPorchSF       0\n",
      "EnclosedPorch     0\n",
      "3SsnPorch         0\n",
      "ScreenPorch       0\n",
      "PoolArea          0\n",
      "MiscVal           0\n",
      "MoSold            0\n",
      "YrSold            0\n",
      "SaleType          0\n",
      "SaleCondition     0\n",
      "SalePrice         0\n",
      "Length: 76, dtype: int64\n",
      "Id                0\n",
      "MSSubClass        0\n",
      "MSZoning          4\n",
      "LotFrontage       0\n",
      "LotArea           0\n",
      "Street            0\n",
      "LotShape          0\n",
      "LandContour       0\n",
      "Utilities         2\n",
      "LotConfig         0\n",
      "LandSlope         0\n",
      "Neighborhood      0\n",
      "Condition1        0\n",
      "Condition2        0\n",
      "BldgType          0\n",
      "HouseStyle        0\n",
      "OverallQual       0\n",
      "OverallCond       0\n",
      "YearBuilt         0\n",
      "YearRemodAdd      0\n",
      "RoofStyle         0\n",
      "RoofMatl          0\n",
      "Exterior1st       1\n",
      "Exterior2nd       1\n",
      "MasVnrType       16\n",
      "MasVnrArea        0\n",
      "ExterQual         0\n",
      "ExterCond         0\n",
      "Foundation        0\n",
      "BsmtQual         44\n",
      "                 ..\n",
      "GrLivArea         0\n",
      "BsmtFullBath      0\n",
      "BsmtHalfBath      0\n",
      "FullBath          0\n",
      "HalfBath          0\n",
      "BedroomAbvGr      0\n",
      "KitchenAbvGr      0\n",
      "KitchenQual       1\n",
      "TotRmsAbvGrd      0\n",
      "Functional        2\n",
      "Fireplaces        0\n",
      "GarageType       76\n",
      "GarageYrBlt       0\n",
      "GarageFinish     78\n",
      "GarageCars        0\n",
      "GarageArea        0\n",
      "GarageQual       78\n",
      "GarageCond       78\n",
      "PavedDrive        0\n",
      "WoodDeckSF        0\n",
      "OpenPorchSF       0\n",
      "EnclosedPorch     0\n",
      "3SsnPorch         0\n",
      "ScreenPorch       0\n",
      "PoolArea          0\n",
      "MiscVal           0\n",
      "MoSold            0\n",
      "YrSold            0\n",
      "SaleType          1\n",
      "SaleCondition     0\n",
      "Length: 75, dtype: int64\n"
     ]
    }
   ],
   "source": [
    "train = train.fillna(train.mean())\n",
    "test = test.fillna(test.mean())\n",
    "print(train.isnull().sum())\n",
    "print(test.isnull().sum())\n"
   ]
  },
  {
   "cell_type": "markdown",
   "metadata": {},
   "source": [
    "Check the correlations with target column"
   ]
  },
  {
   "cell_type": "code",
   "execution_count": 10,
   "metadata": {},
   "outputs": [
    {
     "data": {
      "text/plain": [
       "SalePrice        1.000000\n",
       "OverallQual      0.790982\n",
       "GrLivArea        0.708624\n",
       "GarageCars       0.640409\n",
       "GarageArea       0.623431\n",
       "TotalBsmtSF      0.613581\n",
       "1stFlrSF         0.605852\n",
       "FullBath         0.560664\n",
       "TotRmsAbvGrd     0.533723\n",
       "YearBuilt        0.522897\n",
       "YearRemodAdd     0.507101\n",
       "MasVnrArea       0.475241\n",
       "GarageYrBlt      0.470177\n",
       "Fireplaces       0.466929\n",
       "BsmtFinSF1       0.386420\n",
       "LotFrontage      0.334901\n",
       "WoodDeckSF       0.324413\n",
       "2ndFlrSF         0.319334\n",
       "OpenPorchSF      0.315856\n",
       "HalfBath         0.284108\n",
       "LotArea          0.263843\n",
       "BsmtFullBath     0.227122\n",
       "BsmtUnfSF        0.214479\n",
       "BedroomAbvGr     0.168213\n",
       "ScreenPorch      0.111447\n",
       "PoolArea         0.092404\n",
       "MoSold           0.046432\n",
       "3SsnPorch        0.044584\n",
       "BsmtFinSF2      -0.011378\n",
       "BsmtHalfBath    -0.016844\n",
       "MiscVal         -0.021190\n",
       "Id              -0.021917\n",
       "LowQualFinSF    -0.025606\n",
       "YrSold          -0.028923\n",
       "OverallCond     -0.077856\n",
       "MSSubClass      -0.084284\n",
       "EnclosedPorch   -0.128578\n",
       "KitchenAbvGr    -0.135907\n",
       "Name: SalePrice, dtype: float64"
      ]
     },
     "execution_count": 10,
     "metadata": {},
     "output_type": "execute_result"
    }
   ],
   "source": [
    "corr = train.corr()\n",
    "corr.sort_values(by=['SalePrice'], ascending=False, inplace=True)\n",
    "corr['SalePrice']"
   ]
  },
  {
   "cell_type": "code",
   "execution_count": 11,
   "metadata": {},
   "outputs": [
    {
     "data": {
      "text/plain": [
       "<matplotlib.axes._subplots.AxesSubplot at 0x115141f90>"
      ]
     },
     "execution_count": 11,
     "metadata": {},
     "output_type": "execute_result"
    },
    {
     "data": {
      "image/png": "[encoded data removed]",
      "text/plain": [
       "<Figure size 432x288 with 1 Axes>"
      ]
     },
     "metadata": {},
     "output_type": "display_data"
    }
   ],
   "source": [
    "train['SalePrice'].hist()"
   ]
  },
  {
   "cell_type": "code",
   "execution_count": 12,
   "metadata": {},
   "outputs": [
    {
     "data": {
      "text/plain": [
       "<matplotlib.axes._subplots.AxesSubplot at 0x115bfcb50>"
      ]
     },
     "execution_count": 12,
     "metadata": {},
     "output_type": "execute_result"
    },
    {
     "data": {
      "image/png": "[encoded data removed]",
      "text/plain": [
       "<Figure size 432x288 with 1 Axes>"
      ]
     },
     "metadata": {},
     "output_type": "display_data"
    }
   ],
   "source": [
    "sns.boxplot(x='OverallQual', y=\"SalePrice\", data=train)"
   ]
  },
  {
   "cell_type": "code",
   "execution_count": 13,
   "metadata": {},
   "outputs": [
    {
     "data": {
      "text/plain": [
       "<matplotlib.collections.PathCollection at 0x1a18e3dd50>"
      ]
     },
     "execution_count": 13,
     "metadata": {},
     "output_type": "execute_result"
    },
    {
     "data": {
      "image/png": "[encoded data removed]",
      "text/plain": [
       "<Figure size 432x288 with 1 Axes>"
      ]
     },
     "metadata": {},
     "output_type": "display_data"
    }
   ],
   "source": [
    "plt.scatter(train['GrLivArea'], train['SalePrice'])"
   ]
  },
  {
   "cell_type": "code",
   "execution_count": 14,
   "metadata": {},
   "outputs": [],
   "source": [
    "object_df = train.select_dtypes(include=['object'])\n",
    "object_cols = list(object_df.columns)"
   ]
  },
  {
   "cell_type": "markdown",
   "metadata": {},
   "source": [
    "Convert categorical variable into dummy/indicator variables"
   ]
  },
  {
   "cell_type": "code",
   "execution_count": 15,
   "metadata": {},
   "outputs": [
    {
     "name": "stdout",
     "output_type": "stream",
     "text": [
      "(1460, 272)\n",
      "(1459, 255)\n",
      "['Exterior2nd_Other', 'Utilities_NoSeWa', 'HouseStyle_2.5Fin', 'Heating_Floor', 'Exterior1st_Stone', 'RoofMatl_ClyTile', 'Heating_OthW', 'Condition2_RRAe', 'RoofMatl_Roll', 'Condition2_RRNn', 'GarageQual_Ex', 'RoofMatl_Membran', 'Condition2_RRAn', 'RoofMatl_Metal', 'Electrical_Mix', 'Exterior1st_ImStucc', 'SalePrice']\n",
      "[]\n"
     ]
    }
   ],
   "source": [
    "def create_dummies(df,column_name):\n",
    "    dummies = pd.get_dummies(df[column_name],prefix=column_name)\n",
    "    df = pd.concat([df,dummies],axis=1)\n",
    "    df = df.drop([column_name], axis=1)\n",
    "    return df\n",
    "\n",
    "for col in object_cols:\n",
    "    train = create_dummies(train, col)\n",
    "    test = create_dummies(test, col)\n",
    "\n",
    "print(train.shape)\n",
    "print(test.shape)\n",
    "\n",
    "train_cols = set(train.columns)\n",
    "test_cols = set(test.columns)\n",
    "print(list(train_cols - test_cols))\n",
    "print(list(test_cols - train_cols))"
   ]
  },
  {
   "cell_type": "markdown",
   "metadata": {},
   "source": [
    "Remove some error data in which Year Sold is earlier than Year Built or Year Remodel"
   ]
  },
  {
   "cell_type": "code",
   "execution_count": 16,
   "metadata": {},
   "outputs": [
    {
     "data": {
      "text/plain": [
       "(1335, 272)"
      ]
     },
     "execution_count": 16,
     "metadata": {},
     "output_type": "execute_result"
    }
   ],
   "source": [
    "train = train[train['YearBuilt']<train['YrSold']]\n",
    "train = train[train['YearRemodAdd']<train['YrSold']]\n",
    "train = train[train['SalePrice']>0]\n",
    "train.shape"
   ]
  },
  {
   "cell_type": "markdown",
   "metadata": {},
   "source": [
    "\n",
    "Now we can begin training models and making predictions"
   ]
  },
  {
   "cell_type": "code",
   "execution_count": 17,
   "metadata": {},
   "outputs": [],
   "source": [
    "features = list(train.columns)\n",
    "target = ['SalePrice']\n",
    "features.remove('Id')\n",
    "cols_removed = list(train_cols - test_cols)\n",
    "for col in cols_removed:\n",
    "    features.remove(col)"
   ]
  },
  {
   "cell_type": "code",
   "execution_count": 18,
   "metadata": {},
   "outputs": [
    {
     "name": "stdout",
     "output_type": "stream",
     "text": [
      "   MSSubClass  LotFrontage  LotArea  OverallQual  OverallCond  YearBuilt  \\\n",
      "0          20         80.0    11622            5            6       1961   \n",
      "1          20         81.0    14267            6            6       1958   \n",
      "2          60         74.0    13830            5            5       1997   \n",
      "3          60         78.0     9978            6            6       1998   \n",
      "4         120         43.0     5005            8            5       1992   \n",
      "\n",
      "   YearRemodAdd  MasVnrArea  BsmtFinSF1  BsmtFinSF2          ...            \\\n",
      "0          1961         0.0       468.0       144.0          ...             \n",
      "1          1958       108.0       923.0         0.0          ...             \n",
      "2          1998         0.0       791.0         0.0          ...             \n",
      "3          1998        20.0       602.0         0.0          ...             \n",
      "4          1992         0.0       263.0         0.0          ...             \n",
      "\n",
      "   SaleType_ConLw  SaleType_New  SaleType_Oth  SaleType_WD  \\\n",
      "0               0             0             0            1   \n",
      "1               0             0             0            1   \n",
      "2               0             0             0            1   \n",
      "3               0             0             0            1   \n",
      "4               0             0             0            1   \n",
      "\n",
      "   SaleCondition_Abnorml  SaleCondition_AdjLand  SaleCondition_Alloca  \\\n",
      "0                      0                      0                     0   \n",
      "1                      0                      0                     0   \n",
      "2                      0                      0                     0   \n",
      "3                      0                      0                     0   \n",
      "4                      0                      0                     0   \n",
      "\n",
      "   SaleCondition_Family  SaleCondition_Normal  SaleCondition_Partial  \n",
      "0                     0                     1                      0  \n",
      "1                     0                     1                      0  \n",
      "2                     0                     1                      0  \n",
      "3                     0                     1                      0  \n",
      "4                     0                     1                      0  \n",
      "\n",
      "[5 rows x 254 columns]\n",
      "(1459, 254)\n"
     ]
    }
   ],
   "source": [
    "print(test[features].head())\n",
    "print(test[features].shape)"
   ]
  },
  {
   "cell_type": "code",
   "execution_count": 19,
   "metadata": {},
   "outputs": [],
   "source": [
    "from sklearn.metrics import r2_score, mean_squared_error, make_scorer\n",
    "\n",
    "def MSE(y_true,y_pred):\n",
    "    mse = mean_squared_error(y_true, y_pred)\n",
    "    return mse\n",
    "\n",
    "def R2(y_true,y_pred):    \n",
    "     r2 = r2_score(y_true, y_pred)\n",
    "     return r2\n",
    "\n",
    "def two_score(y_true,y_pred):    \n",
    "    MSE(y_true,y_pred) #set score here and not below if using MSE in GridCV\n",
    "    score = R2(y_true,y_pred)\n",
    "    return score\n",
    "\n",
    "def two_scorer():\n",
    "    return make_scorer(two_score, greater_is_better=True) # change for false if using MSE"
   ]
  },
  {
   "cell_type": "code",
   "execution_count": 20,
   "metadata": {},
   "outputs": [
    {
     "data": {
      "text/plain": [
       "0.1708749244499437"
      ]
     },
     "execution_count": 20,
     "metadata": {},
     "output_type": "execute_result"
    }
   ],
   "source": [
    "from sklearn.model_selection import train_test_split\n",
    "from sklearn.linear_model import LinearRegression\n",
    "from sklearn import metrics\n",
    "from sklearn.preprocessing import MinMaxScaler\n",
    "\n",
    "train_X, test_X, train_y, test_y = train_test_split(\n",
    "    train[features], train[target], test_size=0.3,random_state=0)\n",
    "\n",
    "\n",
    "reg1 = LinearRegression().fit(train_X, train_y)\n",
    "\n",
    "predictions = reg1.predict(test_X)\n",
    "lrmse = np.sqrt(metrics.mean_squared_error(np.log(test_y), np.log(predictions)))\n",
    "lrmse"
   ]
  },
  {
   "cell_type": "code",
   "execution_count": 21,
   "metadata": {},
   "outputs": [
    {
     "name": "stdout",
     "output_type": "stream",
     "text": [
      "      MSSubClass  LotFrontage  LotArea  OverallQual  OverallCond  YearBuilt  \\\n",
      "1108          60    70.049958     8063            6            5       2000   \n",
      "484           20    70.049958     7758            5            7       1962   \n",
      "498           20    65.000000     7800            5            7       1967   \n",
      "273           20    80.000000     9600            6            6       1958   \n",
      "1071          60    78.000000    11700            6            6       1968   \n",
      "\n",
      "      YearRemodAdd  MasVnrArea  BsmtFinSF1  BsmtFinSF2          ...            \\\n",
      "1108          2000         0.0           0           0          ...             \n",
      "484           2001         0.0         588           0          ...             \n",
      "498           2004        89.0         450           0          ...             \n",
      "273           1988       183.0         620         620          ...             \n",
      "1071          1968         0.0         298           0          ...             \n",
      "\n",
      "      SaleType_ConLw  SaleType_New  SaleType_Oth  SaleType_WD  \\\n",
      "1108               0             0             0            1   \n",
      "484                0             0             0            1   \n",
      "498                0             0             0            1   \n",
      "273                0             0             0            1   \n",
      "1071               0             0             0            1   \n",
      "\n",
      "      SaleCondition_Abnorml  SaleCondition_AdjLand  SaleCondition_Alloca  \\\n",
      "1108                      1                      0                     0   \n",
      "484                       0                      0                     0   \n",
      "498                       0                      0                     0   \n",
      "273                       0                      0                     0   \n",
      "1071                      0                      0                     0   \n",
      "\n",
      "      SaleCondition_Family  SaleCondition_Normal  SaleCondition_Partial  \n",
      "1108                     0                     0                      0  \n",
      "484                      0                     1                      0  \n",
      "498                      0                     1                      0  \n",
      "273                      0                     1                      0  \n",
      "1071                     0                     1                      0  \n",
      "\n",
      "[5 rows x 254 columns]\n",
      "(401, 254)\n"
     ]
    }
   ],
   "source": [
    "print(test_X.head())\n",
    "print(test_X.shape)"
   ]
  },
  {
   "cell_type": "code",
   "execution_count": 22,
   "metadata": {},
   "outputs": [
    {
     "name": "stdout",
     "output_type": "stream",
     "text": [
      "('Grid best parameter (max. score): ', {'alpha': 10})\n",
      "('Grid best score: ', 0.8821260325190291)\n"
     ]
    }
   ],
   "source": [
    "from sklearn.linear_model import Lasso\n",
    "from sklearn.model_selection import GridSearchCV\n",
    "\n",
    "reg2 = Lasso()\n",
    "grid_values = {'alpha': [0.01,0.1,1,5,10]}\n",
    "\n",
    "grid_clf_acc = GridSearchCV(reg2, param_grid = grid_values, scoring=two_scorer())\n",
    "grid_clf_acc.fit(train_X, train_y)\n",
    "print('Grid best parameter (max. score): ', grid_clf_acc.best_params_)\n",
    "print('Grid best score: ', grid_clf_acc.best_score_)"
   ]
  },
  {
   "cell_type": "code",
   "execution_count": 23,
   "metadata": {},
   "outputs": [
    {
     "data": {
      "text/plain": [
       "0.15670712702902953"
      ]
     },
     "execution_count": 23,
     "metadata": {},
     "output_type": "execute_result"
    }
   ],
   "source": [
    "reg2 = Lasso(alpha=grid_clf_acc.best_params_['alpha']).fit(train_X, train_y)\n",
    "\n",
    "predictions = reg2.predict(test_X)\n",
    "lrmse = np.sqrt(metrics.mean_squared_error(np.log(test_y), np.log(predictions)))\n",
    "lrmse"
   ]
  },
  {
   "cell_type": "code",
   "execution_count": 24,
   "metadata": {},
   "outputs": [
    {
     "name": "stdout",
     "output_type": "stream",
     "text": [
      "('Grid best parameter (max. score): ', {'alpha': 10})\n",
      "('Grid best score: ', 0.8962771115951707)\n"
     ]
    }
   ],
   "source": [
    "from sklearn.linear_model import Ridge\n",
    "\n",
    "reg3 = Ridge()\n",
    "grid_values = {'alpha': [0.01,0.1,1,5,10]}\n",
    "\n",
    "grid_clf_acc = GridSearchCV(reg3, param_grid = grid_values, scoring=two_scorer())\n",
    "grid_clf_acc.fit(train_X, train_y)\n",
    "print('Grid best parameter (max. score): ', grid_clf_acc.best_params_)\n",
    "print('Grid best score: ', grid_clf_acc.best_score_)"
   ]
  },
  {
   "cell_type": "code",
   "execution_count": 25,
   "metadata": {},
   "outputs": [
    {
     "data": {
      "text/plain": [
       "0.13640750673873148"
      ]
     },
     "execution_count": 25,
     "metadata": {},
     "output_type": "execute_result"
    }
   ],
   "source": [
    "reg3 = Ridge(alpha=grid_clf_acc.best_params_['alpha']).fit(train_X, train_y)\n",
    "\n",
    "predictions = reg3.predict(test_X)\n",
    "lrmse = np.sqrt(metrics.mean_squared_error(np.log(test_y), np.log(predictions)))\n",
    "lrmse"
   ]
  },
  {
   "cell_type": "markdown",
   "metadata": {},
   "source": [
    "Using GridSearch to find the best parameters for Gradient Boosting Regressor"
   ]
  },
  {
   "cell_type": "code",
   "execution_count": 26,
   "metadata": {},
   "outputs": [
    {
     "name": "stdout",
     "output_type": "stream",
     "text": [
      "('Grid best parameter (max. score): ', {'min_samples_split': 3, 'loss': 'huber', 'learning_rate': 0.1, 'criterion': 'mse', 'min_samples_leaf': 2})\n",
      "('Grid best score: ', 0.8865230475422877)\n"
     ]
    }
   ],
   "source": [
    "from sklearn.ensemble import GradientBoostingRegressor\n",
    "\n",
    "reg4 = GradientBoostingRegressor()\n",
    "\n",
    "grid_values = {'loss': ['ls', 'lad', 'huber', 'quantile'],\n",
    "              'criterion' : ['friedman_mse','mse'],\n",
    "              'learning_rate' : [0.01,0.1,1],\n",
    "              'min_samples_leaf': [i for i in range(1,5)],\n",
    "              'min_samples_split': [i for i in range(2,5)]}\n",
    "grid_clf_acc = GridSearchCV(reg4, param_grid = grid_values, scoring=two_scorer())\n",
    "grid_clf_acc.fit(train_X, train_y)\n",
    "print('Grid best parameter (max. score): ', grid_clf_acc.best_params_)\n",
    "print('Grid best score: ', grid_clf_acc.best_score_)"
   ]
  },
  {
   "cell_type": "code",
   "execution_count": 27,
   "metadata": {},
   "outputs": [
    {
     "name": "stdout",
     "output_type": "stream",
     "text": [
      "0.1212437467761064\n",
      "25143.589918451573\n"
     ]
    }
   ],
   "source": [
    "reg4 = GradientBoostingRegressor(min_samples_split=grid_clf_acc.best_params_['min_samples_split'],\n",
    "                                loss=grid_clf_acc.best_params_['loss'],\n",
    "                                learning_rate=grid_clf_acc.best_params_['learning_rate'],\n",
    "                                criterion=grid_clf_acc.best_params_['criterion'],\n",
    "                                min_samples_leaf=grid_clf_acc.best_params_['min_samples_leaf']).fit(train_X, train_y)\n",
    "\n",
    "predictions = reg4.predict(test_X)\n",
    "lrmse = np.sqrt(metrics.mean_squared_error(np.log(test_y), np.log(predictions)))\n",
    "print (lrmse)\n",
    "rmse = np.sqrt(metrics.mean_squared_error(test_y, predictions))\n",
    "print (rmse)"
   ]
  },
  {
   "cell_type": "code",
   "execution_count": 28,
   "metadata": {},
   "outputs": [],
   "source": [
    "#Predict final fares for submission\n",
    "\n",
    "GB_Predictions = reg4.predict(test[features])\n",
    "#Set up predictions for a submittable dataframe\n",
    "GB_submission = pd.DataFrame({\"Id\": test['Id'],\"SalePrice\": GB_Predictions},\n",
    "                                 columns = ['Id','SalePrice'])\n",
    "GB_submission.to_csv('GB_submission.csv',index=False)"
   ]
  },
  {
   "cell_type": "code",
   "execution_count": 29,
   "metadata": {},
   "outputs": [
    {
     "data": {
      "text/plain": [
       "0.22949465076580397"
      ]
     },
     "execution_count": 29,
     "metadata": {},
     "output_type": "execute_result"
    }
   ],
   "source": [
    "from sklearn.neighbors import KNeighborsRegressor\n",
    "\n",
    "reg5 = KNeighborsRegressor().fit(train_X, train_y)\n",
    "\n",
    "predictions = reg5.predict(test_X)\n",
    "lrmse = np.sqrt(metrics.mean_squared_error(np.log(test_y), np.log(predictions)))\n",
    "lrmse"
   ]
  },
  {
   "cell_type": "code",
   "execution_count": 30,
   "metadata": {},
   "outputs": [
    {
     "data": {
      "text/plain": [
       "0.23869407276529359"
      ]
     },
     "execution_count": 30,
     "metadata": {},
     "output_type": "execute_result"
    }
   ],
   "source": [
    "from sklearn.neural_network import MLPRegressor\n",
    "\n",
    "reg6 = MLPRegressor().fit(train_X, train_y)\n",
    "\n",
    "predictions = reg6.predict(test_X)\n",
    "lrmse = np.sqrt(metrics.mean_squared_error(np.log(test_y), np.log(predictions)))\n",
    "lrmse"
   ]
  },
  {
   "cell_type": "code",
   "execution_count": 31,
   "metadata": {},
   "outputs": [
    {
     "data": {
      "text/plain": [
       "0.1451043197145062"
      ]
     },
     "execution_count": 31,
     "metadata": {},
     "output_type": "execute_result"
    }
   ],
   "source": [
    "from sklearn.ensemble import RandomForestRegressor\n",
    "\n",
    "reg7 = RandomForestRegressor().fit(train_X, train_y)\n",
    "\n",
    "predictions = reg7.predict(test_X)\n",
    "lrmse = np.sqrt(metrics.mean_squared_error(np.log(test_y), np.log(predictions)))\n",
    "lrmse"
   ]
  },
  {
   "cell_type": "code",
   "execution_count": null,
   "metadata": {},
   "outputs": [],
   "source": []
  }
 ],
 "metadata": {
  "kernelspec": {
   "display_name": "Python 2",
   "language": "python",
   "name": "python2"
  },
  "language_info": {
   "codemirror_mode": {
    "name": "ipython",
    "version": 2
   },
   "file_extension": ".py",
   "mimetype": "text/x-python",
   "name": "python",
   "nbconvert_exporter": "python",
   "pygments_lexer": "ipython2",
   "version": "2.7.15"
  }
 },
 "nbformat": 4,
 "nbformat_minor": 2
}
